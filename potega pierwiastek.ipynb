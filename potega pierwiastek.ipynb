{
 "cells": [
  {
   "cell_type": "markdown",
   "metadata": {},
   "source": [
    "# Zadanie 2\n",
    "\n",
    "Napisz funkcję `power(base, exponent)`, która przyjmie dwa argumenty i zwróci wynik: argument `base` podniesiony do potęgi `exponent`.\n",
    "\n",
    "Napisz funkcję `root(number, degree)`, która obliczy pierwiastek stopnia `degree` dla liczby `number`. Niech stopień pierwiastka będzie domyślnie liczbą `2`.\n",
    "\n",
    "### Podpowiedź:\n",
    "\n",
    "Python oferuje operator potęgowania: `2 ** 4 == 16`.\n",
    "\n",
    "Operator potęgowania może być użyty do odliczenia pierwiastka: `16 ** 0.25 == 2.0`"
   ]
  },
  {
   "cell_type": "code",
   "execution_count": 23,
   "metadata": {},
   "outputs": [],
   "source": [
    "# Tutaj napisz funkcje \"power\" oraz \"root\"\n",
    "def power(base, exponent):\n",
    "    return base ** exponent\n",
    "\n",
    "\n",
    "def root(number, degree=2):\n",
    "    return number ** (1/degree)\n"
   ]
  },
  {
   "cell_type": "code",
   "execution_count": 24,
   "metadata": {},
   "outputs": [
    {
     "name": "stdout",
     "output_type": "stream",
     "text": [
      "2 ** 3 = 8 (oczekiwany wynik to 8)\n",
      "1.5 ** 2 = 2.25 (oczekiwany wynik to 2.25)\n",
      "2 ** 5 - 30 = 2 (oczekiwany wynik to 2)\n",
      "pierwiastek stopnia 2 liczby 64 to 8.0 (oczekiwany wynik to 8.0)\n",
      "pierwiastek stopnia 2 liczby 64 to 8.0 (oczekiwany wynik to 8.0)\n",
      "pierwiastek stopnia 4 liczby 2401, pomniejszony o 5 to 2.0 (oczekiwany wynik to 2)\n"
     ]
    }
   ],
   "source": [
    "print('2 ** 3 =', power(2, 3), '(oczekiwany wynik to 8)')\n",
    "print('1.5 ** 2 =', power(1.5, 2), '(oczekiwany wynik to 2.25)')\n",
    "print('2 ** 5 - 30 =', power(2, 5) - 30, '(oczekiwany wynik to 2)')\n",
    "print('pierwiastek stopnia 2 liczby 64 to', root(64, 2), '(oczekiwany wynik to 8.0)')\n",
    "print('pierwiastek stopnia 2 liczby 64 to', root(64), '(oczekiwany wynik to 8.0)')\n",
    "print('pierwiastek stopnia 4 liczby 2401, pomniejszony o 5 to', root(2401, 4) - 5, '(oczekiwany wynik to 2)')"
   ]
  }
 ],
 "metadata": {
  "kernelspec": {
   "display_name": "Python 3",
   "language": "python",
   "name": "python3"
  },
  "language_info": {
   "codemirror_mode": {
    "name": "ipython",
    "version": 3
   },
   "file_extension": ".py",
   "mimetype": "text/x-python",
   "name": "python",
   "nbconvert_exporter": "python",
   "pygments_lexer": "ipython3",
   "version": "3.8.8"
  }
 },
 "nbformat": 4,
 "nbformat_minor": 4
}
