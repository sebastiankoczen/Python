{
 "cells": [
  {
   "cell_type": "markdown",
   "metadata": {},
   "source": [
    "# Zadanie 3\n",
    "\n",
    "Napisz funkcję `usd_to_pln(usd)`, która przyjmie jeden argument: kwotę w dolarach (typu `int` lub `float`) oraz zwróci kwotę w złotówkach.\n",
    "\n",
    "Użyj przelicznika `$1 = 3.75zł`."
   ]
  },
  {
   "cell_type": "code",
   "execution_count": 4,
   "metadata": {},
   "outputs": [
    {
     "name": "stdout",
     "output_type": "stream",
     "text": [
      "15.0\n"
     ]
    }
   ],
   "source": [
    "# Tutaj napisz funkcję \"usd_to_pln\"\n",
    "def usd_to_pln(usd):\n",
    "    if isinstance(usd, (int, float)):\n",
    "        return usd*3.75\n",
    "    \n",
    "def usd_to_pln_2(usd):\n",
    "    if isinstance(usd, (int, float)):\n",
    "        return usd*3.75\n",
    "    raise ValueError(\"Usd musi by intem lub floate\")\n",
    "    \n",
    "def usd_to_pln_3(usd):\n",
    "    return usd*3.75\n",
    "print(usd_to_pln(4))"
   ]
  },
  {
   "cell_type": "code",
   "execution_count": 30,
   "metadata": {},
   "outputs": [],
   "source": [
    "usd_to_pln(\"a\")"
   ]
  },
  {
   "cell_type": "code",
   "execution_count": 22,
   "metadata": {},
   "outputs": [
    {
     "data": {
      "text/plain": [
       "'abcabcabcabcabc'"
      ]
     },
     "execution_count": 22,
     "metadata": {},
     "output_type": "execute_result"
    }
   ],
   "source": [
    "\"abc\"*5"
   ]
  },
  {
   "cell_type": "code",
   "execution_count": 3,
   "metadata": {},
   "outputs": [
    {
     "name": "stdout",
     "output_type": "stream",
     "text": [
      "$100 = 375.0 zł (oczekiwany wynik to 375.0 zł)\n",
      "$1.55 = 5.8125 zł (oczekiwany wynik to 5.8125 zł)\n",
      "$4 - 2zł = 13.0 zł (oczekiwany wynik to 13 zł)\n"
     ]
    }
   ],
   "source": [
    "print('$100 =', usd_to_pln(100), 'zł (oczekiwany wynik to 375.0 zł)')\n",
    "print('$1.55 =', usd_to_pln(1.55), 'zł (oczekiwany wynik to 5.8125 zł)')\n",
    "print('$4 - 2zł =', usd_to_pln(4) - 2, 'zł (oczekiwany wynik to 13 zł)')"
   ]
  },
  {
   "cell_type": "code",
   "execution_count": 5,
   "metadata": {},
   "outputs": [],
   "source": [
    "zmienna = 3\n",
    "zmienna2 = 3.25\n",
    "zmienna3 = \"ala ma różowego kota\""
   ]
  },
  {
   "cell_type": "code",
   "execution_count": 13,
   "metadata": {},
   "outputs": [
    {
     "data": {
      "text/plain": [
       "True"
      ]
     },
     "execution_count": 13,
     "metadata": {},
     "output_type": "execute_result"
    }
   ],
   "source": [
    "isinstance(zmienna, (float, int))"
   ]
  }
 ],
 "metadata": {
  "kernelspec": {
   "display_name": "Python 3",
   "language": "python",
   "name": "python3"
  },
  "language_info": {
   "codemirror_mode": {
    "name": "ipython",
    "version": 3
   },
   "file_extension": ".py",
   "mimetype": "text/x-python",
   "name": "python",
   "nbconvert_exporter": "python",
   "pygments_lexer": "ipython3",
   "version": "3.8.8"
  }
 },
 "nbformat": 4,
 "nbformat_minor": 4
}
