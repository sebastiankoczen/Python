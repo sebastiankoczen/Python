{
 "cells": [
  {
   "cell_type": "markdown",
   "metadata": {},
   "source": [
    "# Zadanie 1\n",
    "\n",
    "Napisz funkcję `multiply(a, b)`, która zwróci wynik mnożenia dwóch przekazanych do niej liczb."
   ]
  },
  {
   "cell_type": "code",
   "execution_count": 4,
   "metadata": {},
   "outputs": [],
   "source": [
    "# Tutaj napisz funkcję \"multiply\"\n",
    "def multiply(a, b):\n",
    "    result = a * b\n",
    "    return result"
   ]
  },
  {
   "cell_type": "code",
   "execution_count": 5,
   "metadata": {},
   "outputs": [
    {
     "name": "stdout",
     "output_type": "stream",
     "text": [
      "2 * 3 = 6 (oczekiwany wynik to 6)\n",
      "2.5 * 4 = 10.0 (oczekiwany wynik to 10.0)\n",
      "4 * 0.25 = 1.0 (oczekiwany wynik to 1.0)\n",
      "0.4 * 2.5 = 1.0 (oczekiwany wynik to 1.0)\n",
      "4 * 3 + 5 = 17 (oczekiwany wynik to 17)\n",
      "10 + 2 * 6 = 22 (oczekiwany wynik to 22)\n"
     ]
    }
   ],
   "source": [
    "print('2 * 3 =', multiply(2, 3), '(oczekiwany wynik to 6)')\n",
    "print('2.5 * 4 =', multiply(2.5, 4), '(oczekiwany wynik to 10.0)')\n",
    "print('4 * 0.25 =', multiply(4, 0.25), '(oczekiwany wynik to 1.0)')\n",
    "print('0.4 * 2.5 =', multiply(0.4, 2.5), '(oczekiwany wynik to 1.0)')\n",
    "print('4 * 3 + 5 =', multiply(4, 3) + 5, '(oczekiwany wynik to 17)')\n",
    "print('10 + 2 * 6 =', 10 + multiply(2, 6), '(oczekiwany wynik to 22)')"
   ]
  },
  {
   "cell_type": "code",
   "execution_count": 8,
   "metadata": {},
   "outputs": [
    {
     "name": "stdout",
     "output_type": "stream",
     "text": [
      "1 6\n"
     ]
    }
   ],
   "source": [
    "print(1, multiply(2, 3))"
   ]
  },
  {
   "cell_type": "code",
   "execution_count": 10,
   "metadata": {},
   "outputs": [
    {
     "name": "stdout",
     "output_type": "stream",
     "text": [
      "6\n"
     ]
    }
   ],
   "source": [
    "wynik = multiply(2,3)\n",
    "print(wynik)"
   ]
  }
 ],
 "metadata": {
  "kernelspec": {
   "display_name": "Python 3",
   "language": "python",
   "name": "python3"
  },
  "language_info": {
   "codemirror_mode": {
    "name": "ipython",
    "version": 3
   },
   "file_extension": ".py",
   "mimetype": "text/x-python",
   "name": "python",
   "nbconvert_exporter": "python",
   "pygments_lexer": "ipython3",
   "version": "3.8.8"
  }
 },
 "nbformat": 4,
 "nbformat_minor": 4
}
